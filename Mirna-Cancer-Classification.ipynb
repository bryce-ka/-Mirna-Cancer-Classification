{
 "cells": [
  {
   "cell_type": "code",
   "execution_count": 1,
   "id": "92cadef7-d0fb-4b9c-acd9-e964961eff13",
   "metadata": {},
   "outputs": [],
   "source": [
    "import pandas as pd\n",
    "import matplotlib.pyplot as plt\n",
    "from sklearn.model_selection import train_test_split\n",
    "from sklearn.neighbors import KNeighborsClassifier\n",
    "from sklearn.ensemble import RandomForestClassifier\n",
    "from sklearn.metrics import accuracy_score\n",
    "from sklearn.preprocessing import StandardScaler, MinMaxScaler, LabelEncoder\n",
    "from sklearn.pipeline import Pipeline, make_pipeline\n",
    "from sklearn.model_selection import GridSearchCV, train_test_split\n",
    "from sklearn.neighbors import KNeighborsClassifier\n",
    "from sklearn.dummy import DummyClassifier\n",
    "from sklearn.feature_selection import SelectPercentile, f_classif\n",
    "from sklearn.metrics import confusion_matrix, f1_score, ConfusionMatrixDisplay, accuracy_score, precision_score, recall_score, f1_score, mean_squared_error, mean_absolute_error"
   ]
  },
  {
   "cell_type": "code",
   "execution_count": 3,
   "id": "cd9498ed-4469-4639-a0f1-f65ba5bcdbf5",
   "metadata": {},
   "outputs": [],
   "source": [
    "# Load the data into a pandas DataFrame\n",
    "df = pd.read_csv('combined_dataset.csv')\n",
    "\n",
    "\n",
    "# Split the data into training and testing sets\n",
    "X = df.iloc[:, 2:].values\n",
    "y = df.iloc[:, 1].values\n",
    "X_train, X_test, y_train, y_test = train_test_split(X, y, test_size=0.3, random_state=42)\n",
    "\n",
    "scaler = MinMaxScaler()\n",
    "\n",
    "# Normalize the input data\n",
    "X_train = scaler.fit_transform(X_train)\n",
    "X_test = scaler.transform(X_test)"
   ]
  },
  {
   "cell_type": "code",
   "execution_count": 4,
   "id": "55491d35-377e-48eb-9f30-e17b45e7f057",
   "metadata": {},
   "outputs": [
    {
     "name": "stdout",
     "output_type": "stream",
     "text": [
      "Dummy accuracy: 0.3689727463312369\n"
     ]
    }
   ],
   "source": [
    "# Dummy model\n",
    "\n",
    "dummy_clf = DummyClassifier(strategy=\"most_frequent\")\n",
    "dummy_clf.fit(X_train, y_train)\n",
    "y_pred = dummy_clf.predict(X_test)\n",
    "\n",
    "accuracy = accuracy_score(y_test, y_pred)\n",
    "print(\"Dummy accuracy:\", accuracy)"
   ]
  },
  {
   "cell_type": "code",
   "execution_count": 6,
   "id": "8e23ec2c-d490-412d-9c98-e861a04458d4",
   "metadata": {},
   "outputs": [
    {
     "name": "stdout",
     "output_type": "stream",
     "text": [
      "The score of the baseline Knn model is:  0.8784067085953878\n"
     ]
    }
   ],
   "source": [
    "knn_baseline = make_pipeline(KNeighborsClassifier())\n",
    "knn_baseline.fit(X_train, y_train)\n",
    "print(\"The score of the baseline Knn model is: \", knn_baseline.score(X_test, y_test))\n",
    "baseknn_pred = knn_baseline.predict(X_test)\n",
    "y_score_baseline = knn_baseline.fit(X_train, y_train).predict_proba(X_test)"
   ]
  },
  {
   "cell_type": "code",
   "execution_count": 7,
   "id": "6e5a01ed-f54c-44c3-8747-091643b8e6d9",
   "metadata": {},
   "outputs": [],
   "source": [
    "# Create and train the kNN classifier\n",
    "knn = KNeighborsClassifier(n_neighbors=4)\n",
    "a_y_pred_knn = knn.fit(X_train, y_train)\n",
    "\n",
    "# Create and train the Random Forest classifier\n",
    "rf = RandomForestClassifier(n_estimators=150, random_state=22)\n",
    "a_y_pred_rf = rf.fit(X_train, y_train)\n"
   ]
  },
  {
   "cell_type": "code",
   "execution_count": 8,
   "id": "f5b89ea9-f549-4010-a248-026f1c9f43fb",
   "metadata": {},
   "outputs": [
    {
     "name": "stdout",
     "output_type": "stream",
     "text": [
      "Experiment 1: kNN accuracy = 0.884, RF accuracy = 0.977\n",
      "Estimators = 150\n",
      "Experiment 2: kNN accuracy = 0.845, RF accuracy = 0.963\n",
      "Estimators = 175\n",
      "Experiment 3: kNN accuracy = 0.877, RF accuracy = 0.970\n",
      "Estimators = 175\n",
      "Experiment 4: kNN accuracy = 0.879, RF accuracy = 0.975\n",
      "Estimators = 175\n",
      "Experiment 5: kNN accuracy = 0.870, RF accuracy = 0.975\n",
      "Estimators = 125\n"
     ]
    }
   ],
   "source": [
    "num_experiments = 5\n",
    "k_values = [4]\n",
    "n_estimators_values = [125, 150, 175]\n",
    "test_size = [.2, .25, .3]\n",
    "best_acc_knn = 0\n",
    "best_acc_rf = 0\n",
    "\n",
    "for i in range(num_experiments):\n",
    "    X_train, X_test, y_train, y_test = train_test_split(X, y, test_size=0.3, random_state=i)\n",
    "    knn.fit(X_train, y_train)\n",
    "    rf.fit(X_train, y_train)\n",
    "    \n",
    "    # knn tuning using GridSearchCV\n",
    "    knn = KNeighborsClassifier()\n",
    "    param_grid = {'n_neighbors': k_values, 'weights': ['distance']}\n",
    "    grid_knn = GridSearchCV(knn, param_grid, cv=10, scoring='accuracy')\n",
    "    grid_knn.fit(X_train, y_train)\n",
    "    best_k = grid_knn.best_params_['n_neighbors']\n",
    "    best_w = grid_knn.best_params_['weights']\n",
    "    knn = KNeighborsClassifier(n_neighbors=best_k, weights=best_w)\n",
    "    knn.fit(X_train, y_train)\n",
    "    \n",
    "    # rf tuning using GridSearchCV\n",
    "    rf = RandomForestClassifier()\n",
    "    param_grid = {'n_estimators': n_estimators_values, 'max_features': ['sqrt']}\n",
    "    grid_rf = GridSearchCV(rf, param_grid, cv=10, scoring='accuracy')\n",
    "    grid_rf.fit(X_train, y_train)\n",
    "    best_n = grid_rf.best_params_['n_estimators']\n",
    "    best_f = grid_rf.best_params_['max_features']\n",
    "    rf = RandomForestClassifier(n_estimators=best_n, max_features=best_f)\n",
    "    rf.fit(X_train, y_train)\n",
    "    \n",
    "    # predictions\n",
    "    y_pred_knn = knn.predict(X_test)\n",
    "    y_pred_rf = rf.predict(X_test)\n",
    "    \n",
    "    # accuracy\n",
    "    acc_knn = accuracy_score(y_test, y_pred_knn)\n",
    "    if(acc_knn > best_acc_knn):\n",
    "        best_acc_knn = acc_knn\n",
    "        a_y_pred_knn = y_pred_knn\n",
    "        a_y_test_knn = y_test\n",
    "    acc_rf = accuracy_score(y_test, y_pred_rf)\n",
    "    if(acc_rf> best_acc_rf):\n",
    "        best_acc_rf = acc_rf\n",
    "        a_y_pred_rf = y_pred_rf\n",
    "        a_y_test_rf = y_test\n",
    "    print(f\"Experiment {i+1}: kNN accuracy = {acc_knn:.3f}, RF accuracy = {acc_rf:.3f}\")\n",
    "\n"
   ]
  },
  {
   "cell_type": "code",
   "execution_count": 9,
   "id": "c2710261-fa01-43af-9718-9209a19cc111",
   "metadata": {},
   "outputs": [
    {
     "name": "stdout",
     "output_type": "stream",
     "text": [
      "0.8836477987421384\n",
      "0.9769392033542977\n"
     ]
    },
    {
     "data": {
      "image/png": "[encoded data removed]",
      "text/plain": [
       "<Figure size 1152x864 with 2 Axes>"
      ]
     },
     "metadata": {
      "needs_background": "light"
     },
     "output_type": "display_data"
    },
    {
     "data": {
      "text/plain": [
       "array([0.87020649, 0.95757576, 0.92857143, 0.74015748, 0.85      ,\n",
       "       0.96      ])"
      ]
     },
     "execution_count": 9,
     "metadata": {},
     "output_type": "execute_result"
    }
   ],
   "source": [
    "knncm = confusion_matrix(a_y_test_knn, a_y_pred_knn)\n",
    "print(best_acc_knn)\n",
    "print(best_acc_rf)\n",
    "disp = ConfusionMatrixDisplay(confusion_matrix=knncm)\n",
    "fig, ax = plt.subplots(figsize=(16, 12))\n",
    "disp.plot(ax=ax)\n",
    "plt.savefig('cm_knn.png', dpi=300)\n",
    "plt.title('KNN Confusion Matrix')\n",
    "plt.show()\n",
    "knncm.diagonal()/knncm.sum(axis=1)"
   ]
  },
  {
   "cell_type": "code",
   "execution_count": 10,
   "id": "7ac378b7-b902-4267-9c99-99ca584c7aa8",
   "metadata": {},
   "outputs": [
    {
     "data": {
      "image/png": "[encoded data removed]",
      "text/plain": [
       "<Figure size 1152x864 with 2 Axes>"
      ]
     },
     "metadata": {
      "needs_background": "light"
     },
     "output_type": "display_data"
    },
    {
     "data": {
      "text/plain": [
       "array([0.99115044, 1.        , 0.99159664, 0.88188976, 0.98333333,\n",
       "       0.96      ])"
      ]
     },
     "execution_count": 10,
     "metadata": {},
     "output_type": "execute_result"
    }
   ],
   "source": [
    "rfcm = confusion_matrix(a_y_test_rf, a_y_pred_rf)\n",
    "disp = ConfusionMatrixDisplay(confusion_matrix=rfcm)\n",
    "fig, ax = plt.subplots(figsize=(16, 12))\n",
    "disp.plot(ax=ax)\n",
    "plt.savefig('cm_rf.png', dpi=300)\n",
    "plt.title('RF Confusion Matrix')\n",
    "plt.show()\n",
    "rfcm.diagonal()/rfcm.sum(axis=1)"
   ]
  },
  {
   "cell_type": "code",
   "execution_count": null,
   "id": "ab975e04-c1ff-4af0-86eb-13ab18da49f9",
   "metadata": {},
   "outputs": [],
   "source": []
  }
 ],
 "metadata": {
  "kernelspec": {
   "display_name": "Python 3.8",
   "language": "python",
   "name": "python3"
  },
  "language_info": {
   "codemirror_mode": {
    "name": "ipython",
    "version": 3
   },
   "file_extension": ".py",
   "mimetype": "text/x-python",
   "name": "python",
   "nbconvert_exporter": "python",
   "pygments_lexer": "ipython3",
   "version": "3.8.6"
  }
 },
 "nbformat": 4,
 "nbformat_minor": 5
}
